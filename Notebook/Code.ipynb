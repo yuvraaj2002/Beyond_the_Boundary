{
 "cells": [
  {
   "cell_type": "code",
   "execution_count": 1,
   "id": "a0fb37ef-cd27-4ecb-adce-ba7ee7a412ca",
   "metadata": {},
   "outputs": [],
   "source": [
    "import pandas as pd\n",
    "import numpy as np\n",
    "import seaborn as sns\n",
    "import plotly\n",
    "import zipfile\n",
    "import os"
   ]
  },
  {
   "cell_type": "markdown",
   "id": "22ae5793-5008-4aca-8138-eca7199b8ec4",
   "metadata": {},
   "source": [
    "### Loading the datasets"
   ]
  },
  {
   "cell_type": "code",
   "execution_count": 2,
   "id": "3eb94fc9-ed30-4f1a-a1dc-aab94bcdaf81",
   "metadata": {},
   "outputs": [],
   "source": [
    "df1 = pd.read_csv('../Notebook/IPL_Ball_by_Ball_2008_2022.csv')\n",
    "df2 = pd.read_csv('../Notebook/IPL_Matches_2008_2022.csv')"
   ]
  },
  {
   "cell_type": "code",
   "execution_count": 3,
   "id": "563ceac2-c2ce-4b81-85f6-f243ff0d1075",
   "metadata": {},
   "outputs": [
    {
     "name": "stdout",
     "output_type": "stream",
     "text": [
      "Dataframe 1 shape: (225954, 17)\n",
      "Dataframe 2 shape: (950, 20)\n"
     ]
    }
   ],
   "source": [
    "print(\"Dataframe 1 shape:\",df1.shape)\n",
    "print(\"Dataframe 2 shape:\",df2.shape)"
   ]
  },
  {
   "cell_type": "markdown",
   "id": "e76a3e30-56e3-48c9-9aea-375fc1c44eeb",
   "metadata": {},
   "source": [
    "### Exploratory data analysis"
   ]
  },
  {
   "cell_type": "code",
   "execution_count": 4,
   "id": "df67b2ef-b1d4-4fa3-af03-8adad6c47b7b",
   "metadata": {},
   "outputs": [
    {
     "data": {
      "text/html": [
       "<div>\n",
       "<style scoped>\n",
       "    .dataframe tbody tr th:only-of-type {\n",
       "        vertical-align: middle;\n",
       "    }\n",
       "\n",
       "    .dataframe tbody tr th {\n",
       "        vertical-align: top;\n",
       "    }\n",
       "\n",
       "    .dataframe thead th {\n",
       "        text-align: right;\n",
       "    }\n",
       "</style>\n",
       "<table border=\"1\" class=\"dataframe\">\n",
       "  <thead>\n",
       "    <tr style=\"text-align: right;\">\n",
       "      <th></th>\n",
       "      <th>ID</th>\n",
       "      <th>City</th>\n",
       "      <th>Date</th>\n",
       "      <th>Season</th>\n",
       "      <th>MatchNumber</th>\n",
       "      <th>Team1</th>\n",
       "      <th>Team2</th>\n",
       "      <th>Venue</th>\n",
       "      <th>TossWinner</th>\n",
       "      <th>TossDecision</th>\n",
       "      <th>SuperOver</th>\n",
       "      <th>WinningTeam</th>\n",
       "      <th>WonBy</th>\n",
       "      <th>Margin</th>\n",
       "      <th>method</th>\n",
       "      <th>Player_of_Match</th>\n",
       "      <th>Team1Players</th>\n",
       "      <th>Team2Players</th>\n",
       "      <th>Umpire1</th>\n",
       "      <th>Umpire2</th>\n",
       "    </tr>\n",
       "  </thead>\n",
       "  <tbody>\n",
       "    <tr>\n",
       "      <th>415</th>\n",
       "      <td>980935</td>\n",
       "      <td>Hyderabad</td>\n",
       "      <td>2016-04-23</td>\n",
       "      <td>2016</td>\n",
       "      <td>18</td>\n",
       "      <td>Sunrisers Hyderabad</td>\n",
       "      <td>Kings XI Punjab</td>\n",
       "      <td>Rajiv Gandhi International Stadium, Uppal</td>\n",
       "      <td>Sunrisers Hyderabad</td>\n",
       "      <td>field</td>\n",
       "      <td>N</td>\n",
       "      <td>Sunrisers Hyderabad</td>\n",
       "      <td>Wickets</td>\n",
       "      <td>5.0</td>\n",
       "      <td>NaN</td>\n",
       "      <td>Mustafizur Rahman</td>\n",
       "      <td>['DA Warner', 'S Dhawan', 'AP Tare', 'EJG Morg...</td>\n",
       "      <td>['M Vijay', 'M Vohra', 'SE Marsh', 'DA Miller'...</td>\n",
       "      <td>AK Chaudhary</td>\n",
       "      <td>CK Nandan</td>\n",
       "    </tr>\n",
       "    <tr>\n",
       "      <th>65</th>\n",
       "      <td>1304055</td>\n",
       "      <td>Mumbai</td>\n",
       "      <td>2022-04-02</td>\n",
       "      <td>2022</td>\n",
       "      <td>9</td>\n",
       "      <td>Rajasthan Royals</td>\n",
       "      <td>Mumbai Indians</td>\n",
       "      <td>Dr DY Patil Sports Academy, Mumbai</td>\n",
       "      <td>Mumbai Indians</td>\n",
       "      <td>field</td>\n",
       "      <td>N</td>\n",
       "      <td>Rajasthan Royals</td>\n",
       "      <td>Runs</td>\n",
       "      <td>23.0</td>\n",
       "      <td>NaN</td>\n",
       "      <td>JC Buttler</td>\n",
       "      <td>['JC Buttler', 'YBK Jaiswal', 'D Padikkal', 'S...</td>\n",
       "      <td>['Ishan Kishan', 'RG Sharma', 'Anmolpreet Sing...</td>\n",
       "      <td>Nitin Menon</td>\n",
       "      <td>PG Pathak</td>\n",
       "    </tr>\n",
       "    <tr>\n",
       "      <th>250</th>\n",
       "      <td>1175359</td>\n",
       "      <td>Jaipur</td>\n",
       "      <td>2019-03-25</td>\n",
       "      <td>2019</td>\n",
       "      <td>4</td>\n",
       "      <td>Kings XI Punjab</td>\n",
       "      <td>Rajasthan Royals</td>\n",
       "      <td>Sawai Mansingh Stadium</td>\n",
       "      <td>Rajasthan Royals</td>\n",
       "      <td>field</td>\n",
       "      <td>N</td>\n",
       "      <td>Kings XI Punjab</td>\n",
       "      <td>Runs</td>\n",
       "      <td>14.0</td>\n",
       "      <td>NaN</td>\n",
       "      <td>CH Gayle</td>\n",
       "      <td>['KL Rahul', 'CH Gayle', 'MA Agarwal', 'SN Kha...</td>\n",
       "      <td>['AM Rahane', 'JC Buttler', 'SV Samson', 'SPD ...</td>\n",
       "      <td>C Shamshuddin</td>\n",
       "      <td>KN Ananthapadmanabhan</td>\n",
       "    </tr>\n",
       "  </tbody>\n",
       "</table>\n",
       "</div>"
      ],
      "text/plain": [
       "          ID       City        Date Season MatchNumber                Team1  \\\n",
       "415   980935  Hyderabad  2016-04-23   2016          18  Sunrisers Hyderabad   \n",
       "65   1304055     Mumbai  2022-04-02   2022           9     Rajasthan Royals   \n",
       "250  1175359     Jaipur  2019-03-25   2019           4      Kings XI Punjab   \n",
       "\n",
       "                Team2                                      Venue  \\\n",
       "415   Kings XI Punjab  Rajiv Gandhi International Stadium, Uppal   \n",
       "65     Mumbai Indians         Dr DY Patil Sports Academy, Mumbai   \n",
       "250  Rajasthan Royals                     Sawai Mansingh Stadium   \n",
       "\n",
       "              TossWinner TossDecision SuperOver          WinningTeam    WonBy  \\\n",
       "415  Sunrisers Hyderabad        field         N  Sunrisers Hyderabad  Wickets   \n",
       "65        Mumbai Indians        field         N     Rajasthan Royals     Runs   \n",
       "250     Rajasthan Royals        field         N      Kings XI Punjab     Runs   \n",
       "\n",
       "     Margin method    Player_of_Match  \\\n",
       "415     5.0    NaN  Mustafizur Rahman   \n",
       "65     23.0    NaN         JC Buttler   \n",
       "250    14.0    NaN           CH Gayle   \n",
       "\n",
       "                                          Team1Players  \\\n",
       "415  ['DA Warner', 'S Dhawan', 'AP Tare', 'EJG Morg...   \n",
       "65   ['JC Buttler', 'YBK Jaiswal', 'D Padikkal', 'S...   \n",
       "250  ['KL Rahul', 'CH Gayle', 'MA Agarwal', 'SN Kha...   \n",
       "\n",
       "                                          Team2Players        Umpire1  \\\n",
       "415  ['M Vijay', 'M Vohra', 'SE Marsh', 'DA Miller'...   AK Chaudhary   \n",
       "65   ['Ishan Kishan', 'RG Sharma', 'Anmolpreet Sing...    Nitin Menon   \n",
       "250  ['AM Rahane', 'JC Buttler', 'SV Samson', 'SPD ...  C Shamshuddin   \n",
       "\n",
       "                   Umpire2  \n",
       "415              CK Nandan  \n",
       "65               PG Pathak  \n",
       "250  KN Ananthapadmanabhan  "
      ]
     },
     "execution_count": 4,
     "metadata": {},
     "output_type": "execute_result"
    }
   ],
   "source": [
    "df2.sample(3)"
   ]
  },
  {
   "cell_type": "markdown",
   "id": "64ad2fe7-6fd1-4d3a-9392-03a8bff78202",
   "metadata": {},
   "source": [
    "D/L: This refers to the Duckworth-Lewis method, a mathematical formula used to adjust targets in limited-overs cricket matches that are affected by weather interruptions. Matches might be decided by this method if weather conditions significantly disrupt the game."
   ]
  },
  {
   "cell_type": "code",
   "execution_count": 5,
   "id": "dd1a74f5-d7c1-4b3c-81bc-5198a95c07a4",
   "metadata": {},
   "outputs": [],
   "source": [
    "# Dropping unnecessary features\n",
    "df2.drop(['ID','Date','Team1Players','Team2Players','method'],axis=1,inplace=True)"
   ]
  },
  {
   "cell_type": "code",
   "execution_count": 6,
   "id": "d6bca990-996e-4dcd-9668-976c05a0d65a",
   "metadata": {},
   "outputs": [
    {
     "name": "stdout",
     "output_type": "stream",
     "text": [
      "There are no duplicate values\n"
     ]
    }
   ],
   "source": [
    "# Checking duplicated values\n",
    "duplicate_Cnt = df2.duplicated().sum()\n",
    "if (duplicate_Cnt > 0):\n",
    "    df.drop_duplicates(inplace=True)\n",
    "    print(f\"{duplicate_Cnt} duplicate values removed\")\n",
    "else:\n",
    "    print(\"There are no duplicate values\")"
   ]
  },
  {
   "cell_type": "code",
   "execution_count": 7,
   "id": "805469c3-f8b1-4817-8bd1-9140fd9553c8",
   "metadata": {},
   "outputs": [
    {
     "name": "stdout",
     "output_type": "stream",
     "text": [
      "City :  5.37\n",
      "SuperOver :  0.42\n",
      "WinningTeam :  0.42\n",
      "Margin :  1.89\n",
      "Player_of_Match :  0.42\n"
     ]
    }
   ],
   "source": [
    "nan_cols = []\n",
    "\n",
    "# Finding out the features having missing values and percentage of missing values\n",
    "for cols in df2.columns[df2.isnull().sum() != 0]:\n",
    "    nan_cols.append(cols)\n",
    "    print(f\"{cols} : \",np.round(df2[cols].isnull().mean()*100,2))"
   ]
  },
  {
   "cell_type": "code",
   "execution_count": 8,
   "id": "6e20b4a5-0e5c-40d9-a5f1-31abdc5bccdf",
   "metadata": {},
   "outputs": [],
   "source": [
    "# Performing Univariate mode imputation\n",
    "for cols in ['City','SuperOver','WinningTeam','Margin','Player_of_Match']:\n",
    "    df2[cols] = df2[cols].fillna(df2[cols].mode()[0])"
   ]
  },
  {
   "cell_type": "code",
   "execution_count": 10,
   "id": "b2b5e0f4-fddd-41b5-91af-b923580f0bf3",
   "metadata": {},
   "outputs": [],
   "source": [
    "# Fixing the small duplicate values with correct values\n",
    "df2['Team1'] = df2['Team1'].replace('Rising Pune Supergiant','Rising Pune Supergiants')\n",
    "df2['Team2'] = df2['Team2'].replace('Rising Pune Supergiant','Rising Pune Supergiants')"
   ]
  },
  {
   "cell_type": "code",
   "execution_count": null,
   "id": "ed736edb-2409-46b9-8c21-181e9b8dcf5d",
   "metadata": {},
   "outputs": [],
   "source": []
  },
  {
   "cell_type": "code",
   "execution_count": null,
   "id": "2e70d24b-7beb-49b6-b767-6acf35ef585b",
   "metadata": {},
   "outputs": [],
   "source": []
  },
  {
   "cell_type": "code",
   "execution_count": null,
   "id": "79437a33-a93f-48a5-b0ce-81f801317851",
   "metadata": {},
   "outputs": [],
   "source": []
  },
  {
   "cell_type": "code",
   "execution_count": null,
   "id": "edda12c4-ba1d-4c0e-b4fc-1c1393db64cd",
   "metadata": {},
   "outputs": [],
   "source": []
  },
  {
   "cell_type": "code",
   "execution_count": 11,
   "id": "3abc529b-9023-42b9-9e58-f885fb18a6a3",
   "metadata": {},
   "outputs": [
    {
     "data": {
      "text/html": [
       "<div>\n",
       "<style scoped>\n",
       "    .dataframe tbody tr th:only-of-type {\n",
       "        vertical-align: middle;\n",
       "    }\n",
       "\n",
       "    .dataframe tbody tr th {\n",
       "        vertical-align: top;\n",
       "    }\n",
       "\n",
       "    .dataframe thead th {\n",
       "        text-align: right;\n",
       "    }\n",
       "</style>\n",
       "<table border=\"1\" class=\"dataframe\">\n",
       "  <thead>\n",
       "    <tr style=\"text-align: right;\">\n",
       "      <th></th>\n",
       "      <th>City</th>\n",
       "      <th>Season</th>\n",
       "      <th>MatchNumber</th>\n",
       "      <th>Team1</th>\n",
       "      <th>Team2</th>\n",
       "      <th>Venue</th>\n",
       "      <th>TossWinner</th>\n",
       "      <th>TossDecision</th>\n",
       "      <th>SuperOver</th>\n",
       "      <th>WinningTeam</th>\n",
       "      <th>WonBy</th>\n",
       "      <th>Margin</th>\n",
       "      <th>Player_of_Match</th>\n",
       "      <th>Umpire1</th>\n",
       "      <th>Umpire2</th>\n",
       "    </tr>\n",
       "  </thead>\n",
       "  <tbody>\n",
       "    <tr>\n",
       "      <th>690</th>\n",
       "      <td>Mumbai</td>\n",
       "      <td>2012</td>\n",
       "      <td>12</td>\n",
       "      <td>Mumbai Indians</td>\n",
       "      <td>Rajasthan Royals</td>\n",
       "      <td>Wankhede Stadium</td>\n",
       "      <td>Rajasthan Royals</td>\n",
       "      <td>field</td>\n",
       "      <td>N</td>\n",
       "      <td>Mumbai Indians</td>\n",
       "      <td>Runs</td>\n",
       "      <td>27.0</td>\n",
       "      <td>KA Pollard</td>\n",
       "      <td>Aleem Dar</td>\n",
       "      <td>BNJ Oxenford</td>\n",
       "    </tr>\n",
       "    <tr>\n",
       "      <th>556</th>\n",
       "      <td>Hyderabad</td>\n",
       "      <td>2013</td>\n",
       "      <td>72</td>\n",
       "      <td>Sunrisers Hyderabad</td>\n",
       "      <td>Kolkata Knight Riders</td>\n",
       "      <td>Rajiv Gandhi International Stadium, Uppal</td>\n",
       "      <td>Kolkata Knight Riders</td>\n",
       "      <td>bat</td>\n",
       "      <td>N</td>\n",
       "      <td>Sunrisers Hyderabad</td>\n",
       "      <td>Wickets</td>\n",
       "      <td>5.0</td>\n",
       "      <td>PA Patel</td>\n",
       "      <td>Asad Rauf</td>\n",
       "      <td>S Asnani</td>\n",
       "    </tr>\n",
       "    <tr>\n",
       "      <th>99</th>\n",
       "      <td>Sharjah</td>\n",
       "      <td>2021</td>\n",
       "      <td>35</td>\n",
       "      <td>Royal Challengers Bangalore</td>\n",
       "      <td>Chennai Super Kings</td>\n",
       "      <td>Sharjah Cricket Stadium</td>\n",
       "      <td>Chennai Super Kings</td>\n",
       "      <td>field</td>\n",
       "      <td>N</td>\n",
       "      <td>Chennai Super Kings</td>\n",
       "      <td>Wickets</td>\n",
       "      <td>6.0</td>\n",
       "      <td>DJ Bravo</td>\n",
       "      <td>AK Chaudhary</td>\n",
       "      <td>Nitin Menon</td>\n",
       "    </tr>\n",
       "    <tr>\n",
       "      <th>899</th>\n",
       "      <td>Kolkata</td>\n",
       "      <td>2007/08</td>\n",
       "      <td>52</td>\n",
       "      <td>Kolkata Knight Riders</td>\n",
       "      <td>Kings XI Punjab</td>\n",
       "      <td>Eden Gardens</td>\n",
       "      <td>Kings XI Punjab</td>\n",
       "      <td>bat</td>\n",
       "      <td>N</td>\n",
       "      <td>Kolkata Knight Riders</td>\n",
       "      <td>Wickets</td>\n",
       "      <td>3.0</td>\n",
       "      <td>Umar Gul</td>\n",
       "      <td>SJ Davis</td>\n",
       "      <td>I Shivram</td>\n",
       "    </tr>\n",
       "  </tbody>\n",
       "</table>\n",
       "</div>"
      ],
      "text/plain": [
       "          City   Season MatchNumber                        Team1  \\\n",
       "690     Mumbai     2012          12               Mumbai Indians   \n",
       "556  Hyderabad     2013          72          Sunrisers Hyderabad   \n",
       "99     Sharjah     2021          35  Royal Challengers Bangalore   \n",
       "899    Kolkata  2007/08          52        Kolkata Knight Riders   \n",
       "\n",
       "                     Team2                                      Venue  \\\n",
       "690       Rajasthan Royals                           Wankhede Stadium   \n",
       "556  Kolkata Knight Riders  Rajiv Gandhi International Stadium, Uppal   \n",
       "99     Chennai Super Kings                    Sharjah Cricket Stadium   \n",
       "899        Kings XI Punjab                               Eden Gardens   \n",
       "\n",
       "                TossWinner TossDecision SuperOver            WinningTeam  \\\n",
       "690       Rajasthan Royals        field         N         Mumbai Indians   \n",
       "556  Kolkata Knight Riders          bat         N    Sunrisers Hyderabad   \n",
       "99     Chennai Super Kings        field         N    Chennai Super Kings   \n",
       "899        Kings XI Punjab          bat         N  Kolkata Knight Riders   \n",
       "\n",
       "       WonBy  Margin Player_of_Match       Umpire1       Umpire2  \n",
       "690     Runs    27.0      KA Pollard     Aleem Dar  BNJ Oxenford  \n",
       "556  Wickets     5.0        PA Patel     Asad Rauf      S Asnani  \n",
       "99   Wickets     6.0        DJ Bravo  AK Chaudhary   Nitin Menon  \n",
       "899  Wickets     3.0        Umar Gul      SJ Davis     I Shivram  "
      ]
     },
     "execution_count": 11,
     "metadata": {},
     "output_type": "execute_result"
    }
   ],
   "source": [
    "df2.sample(4)"
   ]
  },
  {
   "cell_type": "code",
   "execution_count": null,
   "id": "d53cfce7-4986-4440-bb2d-b6fc9af22ae0",
   "metadata": {},
   "outputs": [],
   "source": []
  }
 ],
 "metadata": {
  "kernelspec": {
   "display_name": "Python 3 (ipykernel)",
   "language": "python",
   "name": "python3"
  },
  "language_info": {
   "codemirror_mode": {
    "name": "ipython",
    "version": 3
   },
   "file_extension": ".py",
   "mimetype": "text/x-python",
   "name": "python",
   "nbconvert_exporter": "python",
   "pygments_lexer": "ipython3",
   "version": "3.11.5"
  }
 },
 "nbformat": 4,
 "nbformat_minor": 5
}
